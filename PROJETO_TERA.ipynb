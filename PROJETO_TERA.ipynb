{
  "nbformat": 4,
  "nbformat_minor": 0,
  "metadata": {
    "colab": {
      "name": "PROJETO TERA",
      "provenance": [],
      "collapsed_sections": [],
      "authorship_tag": "ABX9TyPUCOnGibcIiHnyjjatkznk",
      "include_colab_link": true
    },
    "kernelspec": {
      "name": "python3",
      "display_name": "Python 3"
    },
    "language_info": {
      "name": "python"
    }
  },
  "cells": [
    {
      "cell_type": "markdown",
      "metadata": {
        "id": "view-in-github",
        "colab_type": "text"
      },
      "source": [
        "<a href=\"https://colab.research.google.com/github/levylevy123/primeirospassospaython/blob/main/PROJETO_TERA.ipynb\" target=\"_parent\"><img src=\"https://colab.research.google.com/assets/colab-badge.svg\" alt=\"Open In Colab\"/></a>"
      ]
    },
    {
      "cell_type": "code",
      "execution_count": null,
      "metadata": {
        "colab": {
          "base_uri": "https://localhost:8080/"
        },
        "id": "9HVdpEyOx_01",
        "outputId": "ec683656-2c43-4aab-89d3-78344ccc6e6d"
      },
      "outputs": [
        {
          "output_type": "stream",
          "name": "stdout",
          "text": [
            "Somos eu e vc bb !\n"
          ]
        }
      ],
      "source": [
        "print(\"Somos eu e vc bb !\")"
      ]
    },
    {
      "cell_type": "code",
      "source": [
        "resposta = 42"
      ],
      "metadata": {
        "id": "oZfoFnFVzDfc"
      },
      "execution_count": null,
      "outputs": []
    },
    {
      "cell_type": "code",
      "source": [
        "resposta"
      ],
      "metadata": {
        "colab": {
          "base_uri": "https://localhost:8080/"
        },
        "id": "nDMl5n52K5Fm",
        "outputId": "744f5de5-436d-4f13-9269-d9ecd41bb906"
      },
      "execution_count": null,
      "outputs": [
        {
          "output_type": "execute_result",
          "data": {
            "text/plain": [
              "42"
            ]
          },
          "metadata": {},
          "execution_count": 10
        }
      ]
    },
    {
      "cell_type": "code",
      "source": [
        "resposta + 60"
      ],
      "metadata": {
        "colab": {
          "base_uri": "https://localhost:8080/"
        },
        "id": "sS9a9PyZLB0B",
        "outputId": "2c94aa0b-39b9-4c5b-defb-8d9b0164e6d6"
      },
      "execution_count": null,
      "outputs": [
        {
          "output_type": "execute_result",
          "data": {
            "text/plain": [
              "102"
            ]
          },
          "metadata": {},
          "execution_count": 11
        }
      ]
    },
    {
      "cell_type": "code",
      "source": [
        "type(resposta)"
      ],
      "metadata": {
        "colab": {
          "base_uri": "https://localhost:8080/"
        },
        "id": "aBDvfFkrLM7I",
        "outputId": "06d5f2cd-4282-4a04-fe27-dc8c848040e4"
      },
      "execution_count": null,
      "outputs": [
        {
          "output_type": "execute_result",
          "data": {
            "text/plain": [
              "int"
            ]
          },
          "metadata": {},
          "execution_count": 12
        }
      ]
    },
    {
      "cell_type": "code",
      "source": [
        "sobremesa = \"pudim\"\n",
        "print (f'hoje a sobremsa e:{sobremesa}')"
      ],
      "metadata": {
        "colab": {
          "base_uri": "https://localhost:8080/"
        },
        "id": "FtC82dtXLW9t",
        "outputId": "5fd5521f-9ed6-49b2-b2d4-1d5c28fd925e"
      },
      "execution_count": null,
      "outputs": [
        {
          "output_type": "stream",
          "name": "stdout",
          "text": [
            "hoje a sobremsa e:pudim\n"
          ]
        }
      ]
    },
    {
      "cell_type": "code",
      "source": [
        "x = [1, 2, 3, 4, 5]\n",
        "x = list ((1, 2, 3, 4, 5))"
      ],
      "metadata": {
        "id": "m4r0TPYWjUy5"
      },
      "execution_count": null,
      "outputs": []
    },
    {
      "cell_type": "code",
      "source": [
        "x = [\" primeiro \", \" segundo \", \" terceiro \", \" quarto \", \" quinto \", \" penultimo \", \" ultimo \"]\n",
        "x[3:1]\n",
        "# x[ <primeiro posição> : <ultima posição>]\n",
        "x[0:3]\n",
        "x[1:5:2]\n",
        "len(x)"
      ],
      "metadata": {
        "colab": {
          "base_uri": "https://localhost:8080/"
        },
        "id": "pDyVly9Yjj5G",
        "outputId": "c714c8d2-a90d-48f1-dcd1-73812fb4bead"
      },
      "execution_count": null,
      "outputs": [
        {
          "output_type": "execute_result",
          "data": {
            "text/plain": [
              "7"
            ]
          },
          "metadata": {},
          "execution_count": 36
        }
      ]
    },
    {
      "cell_type": "code",
      "source": [
        "min(['a', 'b', 'c', 'e', 'f', 'g', 'n', 'o', 'p', 'q'])\n",
        "max([0, 1, 3, 40, 20])\n",
        "sum([10, 20, 50])"
      ],
      "metadata": {
        "colab": {
          "base_uri": "https://localhost:8080/"
        },
        "id": "-l8yvHJBjo_m",
        "outputId": "dfdc18a6-b2bb-4f40-e9fe-681ed7da260e"
      },
      "execution_count": null,
      "outputs": [
        {
          "output_type": "execute_result",
          "data": {
            "text/plain": [
              "80"
            ]
          },
          "metadata": {},
          "execution_count": 32
        }
      ]
    },
    {
      "cell_type": "code",
      "source": [
        "x = [1, 2, 3]\n",
        "x.append(4)\n",
        "x.insert(0, 0.42)"
      ],
      "metadata": {
        "id": "vkSd4auBjrMp"
      },
      "execution_count": null,
      "outputs": []
    },
    {
      "cell_type": "code",
      "source": [
        "x = [1,2,2,3,4]\n",
        "x.remove(2)"
      ],
      "metadata": {
        "id": "8pDy3YmAljo7"
      },
      "execution_count": null,
      "outputs": []
    }
  ]
}