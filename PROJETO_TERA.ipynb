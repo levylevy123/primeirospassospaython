{
  "nbformat": 4,
  "nbformat_minor": 0,
  "metadata": {
    "colab": {
      "name": "PROJETO TERA",
      "provenance": [],
      "collapsed_sections": [],
      "authorship_tag": "ABX9TyM8+S2SM8eZSINS9t7l9i9r",
      "include_colab_link": true
    },
    "kernelspec": {
      "name": "python3",
      "display_name": "Python 3"
    },
    "language_info": {
      "name": "python"
    }
  },
  "cells": [
    {
      "cell_type": "markdown",
      "metadata": {
        "id": "view-in-github",
        "colab_type": "text"
      },
      "source": [
        "<a href=\"https://colab.research.google.com/github/levylevy123/primeirospassospaython/blob/main/PROJETO_TERA.ipynb\" target=\"_parent\"><img src=\"https://colab.research.google.com/assets/colab-badge.svg\" alt=\"Open In Colab\"/></a>"
      ]
    },
    {
      "cell_type": "code",
      "execution_count": null,
      "metadata": {
        "colab": {
          "base_uri": "https://localhost:8080/"
        },
        "id": "9HVdpEyOx_01",
        "outputId": "ec683656-2c43-4aab-89d3-78344ccc6e6d"
      },
      "outputs": [
        {
          "output_type": "stream",
          "name": "stdout",
          "text": [
            "Somos eu e vc bb !\n"
          ]
        }
      ],
      "source": [
        "print(\"Somos eu e vc bb !\")"
      ]
    },
    {
      "cell_type": "code",
      "source": [
        "resposta = 42"
      ],
      "metadata": {
        "id": "oZfoFnFVzDfc"
      },
      "execution_count": null,
      "outputs": []
    },
    {
      "cell_type": "code",
      "source": [
        "resposta"
      ],
      "metadata": {
        "colab": {
          "base_uri": "https://localhost:8080/"
        },
        "id": "nDMl5n52K5Fm",
        "outputId": "744f5de5-436d-4f13-9269-d9ecd41bb906"
      },
      "execution_count": null,
      "outputs": [
        {
          "output_type": "execute_result",
          "data": {
            "text/plain": [
              "42"
            ]
          },
          "metadata": {},
          "execution_count": 10
        }
      ]
    },
    {
      "cell_type": "code",
      "source": [
        "resposta + 60"
      ],
      "metadata": {
        "colab": {
          "base_uri": "https://localhost:8080/"
        },
        "id": "sS9a9PyZLB0B",
        "outputId": "2c94aa0b-39b9-4c5b-defb-8d9b0164e6d6"
      },
      "execution_count": null,
      "outputs": [
        {
          "output_type": "execute_result",
          "data": {
            "text/plain": [
              "102"
            ]
          },
          "metadata": {},
          "execution_count": 11
        }
      ]
    },
    {
      "cell_type": "code",
      "source": [
        "type(resposta)"
      ],
      "metadata": {
        "colab": {
          "base_uri": "https://localhost:8080/"
        },
        "id": "aBDvfFkrLM7I",
        "outputId": "06d5f2cd-4282-4a04-fe27-dc8c848040e4"
      },
      "execution_count": null,
      "outputs": [
        {
          "output_type": "execute_result",
          "data": {
            "text/plain": [
              "int"
            ]
          },
          "metadata": {},
          "execution_count": 12
        }
      ]
    },
    {
      "cell_type": "code",
      "source": [
        "sobremesa = \"pudim\"\n",
        "print (f'hoje a sobremsa e:{sobremesa}')"
      ],
      "metadata": {
        "colab": {
          "base_uri": "https://localhost:8080/"
        },
        "id": "FtC82dtXLW9t",
        "outputId": "5fd5521f-9ed6-49b2-b2d4-1d5c28fd925e"
      },
      "execution_count": null,
      "outputs": [
        {
          "output_type": "stream",
          "name": "stdout",
          "text": [
            "hoje a sobremsa e:pudim\n"
          ]
        }
      ]
    },
    {
      "cell_type": "code",
      "source": [
        "x = [1, 2, 3, 4, 5]\n",
        "x = list ((1, 2, 3, 4, 5))"
      ],
      "metadata": {
        "id": "m4r0TPYWjUy5"
      },
      "execution_count": null,
      "outputs": []
    },
    {
      "cell_type": "code",
      "source": [
        "x = [\" primeiro \", \" segundo \", \" terceiro \", \" quarto \", \" quinto \", \" penultimo \", \" ultimo \"]\n",
        "x[3:1]\n",
        "# x[ <primeiro posição> : <ultima posição>]\n",
        "x[0:3]\n",
        "x[1:5:2]\n",
        "len(x)"
      ],
      "metadata": {
        "colab": {
          "base_uri": "https://localhost:8080/"
        },
        "id": "pDyVly9Yjj5G",
        "outputId": "c714c8d2-a90d-48f1-dcd1-73812fb4bead"
      },
      "execution_count": null,
      "outputs": [
        {
          "output_type": "execute_result",
          "data": {
            "text/plain": [
              "7"
            ]
          },
          "metadata": {},
          "execution_count": 36
        }
      ]
    },
    {
      "cell_type": "code",
      "source": [
        "min(['a', 'b', 'c', 'e', 'f', 'g', 'n', 'o', 'p', 'q'])\n",
        "max([0, 1, 3, 40, 20])\n",
        "sum([10, 20, 50])"
      ],
      "metadata": {
        "colab": {
          "base_uri": "https://localhost:8080/"
        },
        "id": "-l8yvHJBjo_m",
        "outputId": "dfdc18a6-b2bb-4f40-e9fe-681ed7da260e"
      },
      "execution_count": null,
      "outputs": [
        {
          "output_type": "execute_result",
          "data": {
            "text/plain": [
              "80"
            ]
          },
          "metadata": {},
          "execution_count": 32
        }
      ]
    },
    {
      "cell_type": "code",
      "source": [
        "x = [1, 2, 3]\n",
        "x.append(4)\n",
        "x.insert(0, 0.42)"
      ],
      "metadata": {
        "id": "vkSd4auBjrMp"
      },
      "execution_count": null,
      "outputs": []
    },
    {
      "cell_type": "code",
      "source": [
        "x = [1,2,2,3,4]\n",
        "x.remove(2)"
      ],
      "metadata": {
        "id": "8pDy3YmAljo7"
      },
      "execution_count": null,
      "outputs": []
    },
    {
      "cell_type": "code",
      "source": [
        "# primeiro dicionario \n",
        "entretenimento = {'series' : 'sobrenatural'}\n",
        "print(entretenimento)"
      ],
      "metadata": {
        "colab": {
          "base_uri": "https://localhost:8080/"
        },
        "id": "NmkgD9MI9Fi1",
        "outputId": "62e7d515-5a95-47d1-8a32-7eed0c799f09"
      },
      "execution_count": null,
      "outputs": [
        {
          "output_type": "stream",
          "name": "stdout",
          "text": [
            "{'series': 'sobrenatural'}\n"
          ]
        }
      ]
    },
    {
      "cell_type": "code",
      "source": [
        "#dicionario com dict()\n",
        "entretenimento1 = dict([('filmes', 'soul'), ('series', 'the crown'), ('livros', 'harry potter')])\n",
        "print(entretenimento1)"
      ],
      "metadata": {
        "colab": {
          "base_uri": "https://localhost:8080/"
        },
        "id": "au00kitgBSNg",
        "outputId": "03b03e3f-92fb-461f-92c9-ba9e053636a8"
      },
      "execution_count": null,
      "outputs": [
        {
          "output_type": "stream",
          "name": "stdout",
          "text": [
            "{'filmes': 'soul', 'series': 'the crown', 'livros': 'harry potter'}\n"
          ]
        }
      ]
    },
    {
      "cell_type": "code",
      "source": [
        "#dicionario com dois niveis, imprimindo e colocando mais um genero, acessando um valor de uma chave\n",
        "entretenimento2 =\n",
        "print(entretenimento2['filmes']['açao'])\n",
        "entretenimento2['filmes']['pixar'] = 'soul'\n",
        "print(entretenimento2['filmes']['pixar'])\n",
        "print(entretenimento2['series'])\n",
        "print(entretenimento2)"
      ],
      "metadata": {
        "colab": {
          "base_uri": "https://localhost:8080/"
        },
        "id": "WWGyjHNCD5O_",
        "outputId": "61a2b001-ac00-4a64-e9a7-377df0413006"
      },
      "execution_count": null,
      "outputs": [
        {
          "output_type": "stream",
          "name": "stdout",
          "text": [
            "velozes e  furiosos\n",
            "soul\n",
            "sobrenatural\n"
          ]
        }
      ]
    },
    {
      "cell_type": "code",
      "source": [
        "#dicionario fazendo parte do (true e false)\n",
        "primary_colors = {'red' : [255,0,0], 'green' : [0,255,0], 'blue' : [0,0,255]}\n",
        "print('green' in primary_colors)\n",
        "print('red' in primary_colors)\n",
        "print('blue' in primary_colors)\n",
        "print('gray' in primary_colors)"
      ],
      "metadata": {
        "colab": {
          "base_uri": "https://localhost:8080/"
        },
        "id": "CDdWtJajE0nx",
        "outputId": "e5ed9cbb-e757-4a5a-db27-d61c6ebda330"
      },
      "execution_count": null,
      "outputs": [
        {
          "output_type": "stream",
          "name": "stdout",
          "text": [
            "True\n",
            "True\n",
            "True\n",
            "False\n"
          ]
        }
      ]
    },
    {
      "cell_type": "code",
      "source": [
        "#removendo uma chave de um dicionario usando o del()\n",
        "entretenimento2 =  {'filmes' :{'açao' : 'velozes e  furiosos', 'drama' : 'loves is blind'}, 'series' : 'sobrenatural', 'livros' : 'harry potter'}\n",
        "del entretenimento2['livros']\n",
        "print(entretenimento2)"
      ],
      "metadata": {
        "colab": {
          "base_uri": "https://localhost:8080/"
        },
        "id": "CN_4IXlEMv7w",
        "outputId": "9bde92b9-fa2f-4c26-b7a9-fbcc5cd04b24"
      },
      "execution_count": null,
      "outputs": [
        {
          "output_type": "stream",
          "name": "stdout",
          "text": [
            "{'filmes': {'açao': 'velozes e  furiosos', 'drama': 'loves is blind'}, 'series': 'sobrenatural'}\n"
          ]
        }
      ]
    },
    {
      "cell_type": "code",
      "source": [
        "#acessando o dicionario atraves da chave ou da funcao get e normal\n",
        "print(entretenimento2['series'])\n",
        "print(entretenimento2.get('series'))"
      ],
      "metadata": {
        "colab": {
          "base_uri": "https://localhost:8080/"
        },
        "id": "xzgpGsQYPFLk",
        "outputId": "2962ecf6-c74c-4df5-e98c-5613f441ab93"
      },
      "execution_count": null,
      "outputs": [
        {
          "output_type": "stream",
          "name": "stdout",
          "text": [
            "sobrenatural\n",
            "sobrenatural\n"
          ]
        }
      ]
    }
  ]
}